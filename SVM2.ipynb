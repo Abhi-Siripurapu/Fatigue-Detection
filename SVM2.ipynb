{
 "cells": [
  {
   "cell_type": "code",
   "execution_count": 1,
   "metadata": {},
   "outputs": [
    {
     "name": "stdout",
     "output_type": "stream",
     "text": [
      "Requirement already satisfied: speechbrain in c:\\users\\abhinav\\anaconda\\envs\\speech_env\\lib\\site-packages (0.5.14)\n",
      "Requirement already satisfied: sentencepiece in c:\\users\\abhinav\\anaconda\\envs\\speech_env\\lib\\site-packages (from speechbrain) (0.1.99)\n",
      "Requirement already satisfied: hyperpyyaml in c:\\users\\abhinav\\anaconda\\envs\\speech_env\\lib\\site-packages (from speechbrain) (1.2.0)\n",
      "Requirement already satisfied: torch>=1.9 in c:\\users\\abhinav\\anaconda\\envs\\speech_env\\lib\\site-packages (from speechbrain) (2.0.1)\n",
      "Requirement already satisfied: torchaudio in c:\\users\\abhinav\\anaconda\\envs\\speech_env\\lib\\site-packages (from speechbrain) (2.0.2)\n",
      "Requirement already satisfied: huggingface-hub in c:\\users\\abhinav\\anaconda\\envs\\speech_env\\lib\\site-packages (from speechbrain) (0.14.1)\n",
      "Requirement already satisfied: numpy in c:\\users\\abhinav\\anaconda\\envs\\speech_env\\lib\\site-packages (from speechbrain) (1.22.3)\n",
      "Requirement already satisfied: scipy in c:\\users\\abhinav\\anaconda\\envs\\speech_env\\lib\\site-packages (from speechbrain) (1.10.1)\n",
      "Requirement already satisfied: joblib in c:\\users\\abhinav\\anaconda\\envs\\speech_env\\lib\\site-packages (from speechbrain) (1.2.0)\n",
      "Requirement already satisfied: packaging in c:\\users\\abhinav\\anaconda\\envs\\speech_env\\lib\\site-packages (from speechbrain) (23.1)\n",
      "Requirement already satisfied: tqdm in c:\\users\\abhinav\\anaconda\\envs\\speech_env\\lib\\site-packages (from speechbrain) (4.65.0)\n",
      "Requirement already satisfied: filelock in c:\\users\\abhinav\\anaconda\\envs\\speech_env\\lib\\site-packages (from torch>=1.9->speechbrain) (3.12.0)\n",
      "Requirement already satisfied: typing-extensions in c:\\users\\abhinav\\anaconda\\envs\\speech_env\\lib\\site-packages (from torch>=1.9->speechbrain) (4.5.0)\n",
      "Requirement already satisfied: sympy in c:\\users\\abhinav\\anaconda\\envs\\speech_env\\lib\\site-packages (from torch>=1.9->speechbrain) (1.12)\n",
      "Requirement already satisfied: networkx in c:\\users\\abhinav\\anaconda\\envs\\speech_env\\lib\\site-packages (from torch>=1.9->speechbrain) (3.1)\n",
      "Requirement already satisfied: jinja2 in c:\\users\\abhinav\\anaconda\\envs\\speech_env\\lib\\site-packages (from torch>=1.9->speechbrain) (2.11.3)\n",
      "Requirement already satisfied: pyyaml>=5.1 in c:\\users\\abhinav\\anaconda\\envs\\speech_env\\lib\\site-packages (from huggingface-hub->speechbrain) (6.0)\n",
      "Requirement already satisfied: requests in c:\\users\\abhinav\\anaconda\\envs\\speech_env\\lib\\site-packages (from huggingface-hub->speechbrain) (2.29.0)\n",
      "Requirement already satisfied: fsspec in c:\\users\\abhinav\\anaconda\\envs\\speech_env\\lib\\site-packages (from huggingface-hub->speechbrain) (2023.5.0)\n",
      "Requirement already satisfied: colorama in c:\\users\\abhinav\\anaconda\\envs\\speech_env\\lib\\site-packages (from tqdm->speechbrain) (0.4.6)\n",
      "Requirement already satisfied: ruamel.yaml>=0.17.8 in c:\\users\\abhinav\\anaconda\\envs\\speech_env\\lib\\site-packages (from hyperpyyaml->speechbrain) (0.17.26)\n",
      "Requirement already satisfied: ruamel.yaml.clib>=0.2.7 in c:\\users\\abhinav\\anaconda\\envs\\speech_env\\lib\\site-packages (from ruamel.yaml>=0.17.8->hyperpyyaml->speechbrain) (0.2.7)\n",
      "Requirement already satisfied: MarkupSafe>=0.23 in c:\\users\\abhinav\\anaconda\\envs\\speech_env\\lib\\site-packages (from jinja2->torch>=1.9->speechbrain) (1.1.1)\n",
      "Requirement already satisfied: charset-normalizer<4,>=2 in c:\\users\\abhinav\\anaconda\\envs\\speech_env\\lib\\site-packages (from requests->huggingface-hub->speechbrain) (3.1.0)\n",
      "Requirement already satisfied: certifi>=2017.4.17 in c:\\users\\abhinav\\anaconda\\envs\\speech_env\\lib\\site-packages (from requests->huggingface-hub->speechbrain) (2023.5.7)\n",
      "Requirement already satisfied: idna<4,>=2.5 in c:\\users\\abhinav\\anaconda\\envs\\speech_env\\lib\\site-packages (from requests->huggingface-hub->speechbrain) (3.4)\n",
      "Requirement already satisfied: urllib3<1.27,>=1.21.1 in c:\\users\\abhinav\\anaconda\\envs\\speech_env\\lib\\site-packages (from requests->huggingface-hub->speechbrain) (1.26.15)\n",
      "Requirement already satisfied: mpmath>=0.19 in c:\\users\\abhinav\\anaconda\\envs\\speech_env\\lib\\site-packages (from sympy->torch>=1.9->speechbrain) (1.3.0)\n",
      "Note: you may need to restart the kernel to use updated packages.\n"
     ]
    }
   ],
   "source": [
    "%pip install speechbrain"
   ]
  },
  {
   "cell_type": "code",
   "execution_count": 2,
   "metadata": {},
   "outputs": [
    {
     "name": "stderr",
     "output_type": "stream",
     "text": [
      "c:\\Users\\Abhinav\\Anaconda\\envs\\speech_env\\lib\\site-packages\\tqdm\\auto.py:21: TqdmWarning: IProgress not found. Please update jupyter and ipywidgets. See https://ipywidgets.readthedocs.io/en/stable/user_install.html\n",
      "  from .autonotebook import tqdm as notebook_tqdm\n",
      "The torchaudio backend is switched to 'soundfile'. Note that 'sox_io' is not supported on Windows.\n",
      "torchvision is not available - cannot save figures\n",
      "The torchaudio backend is switched to 'soundfile'. Note that 'sox_io' is not supported on Windows.\n"
     ]
    }
   ],
   "source": [
    "import torchaudio\n",
    "from speechbrain.pretrained import EncoderClassifier\n",
    "import os\n",
    "import numpy as np\n",
    "from sklearn.manifold import TSNE\n",
    "from sklearn.svm import SVC\n",
    "from sklearn.model_selection import train_test_split\n",
    "from sklearn.metrics import accuracy_score\n",
    "from sklearn.decomposition import PCA\n",
    "from sklearn.linear_model import LinearRegression, Ridge, Lasso\n",
    "from sklearn.metrics import mean_squared_error"
   ]
  },
  {
   "cell_type": "code",
   "execution_count": 3,
   "metadata": {},
   "outputs": [],
   "source": [
    "classifier = EncoderClassifier.from_hparams(source=\"C://Users/Abhinav/Fatigue/spkrec-ecapa-voxceleb/\")"
   ]
  },
  {
   "cell_type": "code",
   "execution_count": 4,
   "metadata": {},
   "outputs": [
    {
     "name": "stderr",
     "output_type": "stream",
     "text": [
      "c:\\Users\\Abhinav\\Anaconda\\envs\\speech_env\\lib\\site-packages\\torch\\functional.py:641: UserWarning: stft with return_complex=False is deprecated. In a future pytorch release, stft will return complex tensors for all inputs, and return_complex=False will raise an error.\n",
      "Note: you can still call torch.view_as_real on the complex output to recover the old return format. (Triggered internally at C:\\cb\\pytorch_1000000000000\\work\\aten\\src\\ATen\\native\\SpectralOps.cpp:867.)\n",
      "  return _VF.stft(input, n_fft, hop_length, win_length, window,  # type: ignore[attr-defined]\n"
     ]
    }
   ],
   "source": [
    "dir_path = \"C:\\\\Users\\\\Abhinav\\\\vf_data\"\n",
    "embeddings_list = []\n",
    "labels_list = []\n",
    "for filename in os.listdir(dir_path):\n",
    "    if filename.endswith(\".wav\"):\n",
    "        file_path = os.path.join(dir_path, filename)\n",
    "        signal, fs = torchaudio.load(file_path)\n",
    "        embeddings = classifier.encode_batch(signal)\n",
    "        embeddings_list.append(embeddings)\n",
    "        if \"fatigue\" in filename:\n",
    "            labels_list.append(1)  # 1 represents a fatigued recording\n",
    "        else:\n",
    "            labels_list.append(0)  # 0 represents a non-fatigued recording\n",
    "\n",
    "\n"
   ]
  },
  {
   "cell_type": "code",
   "execution_count": 5,
   "metadata": {},
   "outputs": [
    {
     "name": "stdout",
     "output_type": "stream",
     "text": [
      "(8, 1, 192)\n"
     ]
    }
   ],
   "source": [
    "embeddings_matrix = np.concatenate(embeddings_list, axis=0)\n",
    "print(embeddings_matrix.shape)\n",
    "reshaped_embeddings = embeddings_matrix.reshape(embeddings_matrix.shape[0], -1)"
   ]
  },
  {
   "cell_type": "code",
   "execution_count": 6,
   "metadata": {},
   "outputs": [
    {
     "name": "stdout",
     "output_type": "stream",
     "text": [
      "8\n"
     ]
    }
   ],
   "source": [
    "perplexity_value = 5\n",
    "\n",
    "tsne = TSNE(n_components=2, perplexity=perplexity_value)\n",
    "tsne_embeddings = tsne.fit_transform(reshaped_embeddings)\n",
    "print(len(reshaped_embeddings))"
   ]
  },
  {
   "cell_type": "code",
   "execution_count": 7,
   "metadata": {},
   "outputs": [
    {
     "name": "stdout",
     "output_type": "stream",
     "text": [
      "5\n",
      "8\n"
     ]
    }
   ],
   "source": [
    "weights = np.array([0.1, 0.2, 0.3, 0.4, 0.5])\n",
    "print(len(weights))\n",
    "padding = len(weights) - 1\n",
    "padded_embeddings = np.pad(tsne_embeddings, ((padding, 0), (0, 0)), mode='constant')\n",
    "smoothed_embeddings = np.apply_along_axis(lambda m: np.convolve(m, weights, mode='valid'), axis=0, arr=padded_embeddings)\n",
    "print(len(smoothed_embeddings))"
   ]
  },
  {
   "cell_type": "code",
   "execution_count": 8,
   "metadata": {},
   "outputs": [
    {
     "name": "stdout",
     "output_type": "stream",
     "text": [
      "Hello can i branch\n"
     ]
    }
   ],
   "source": [
    "target_rms = 0.85  # Adjust this value as per your requirement\n",
    "\n",
    "# Calculate the RMS of the smoothed_embeddings\n",
    "rms = np.sqrt(np.mean(np.square(smoothed_embeddings), axis=0))\n",
    "\n",
    "# Calculate the scale factor to normalize the embeddings\n",
    "scale_factor = target_rms / rms\n",
    "\n",
    "# Apply the scale factor to normalize the embeddings\n",
    "normalized_embeddings = smoothed_embeddings * scale_factor\n",
    "\n",
    "print(\"Hello can i branch\")"
   ]
  },
  {
   "cell_type": "code",
   "execution_count": 9,
   "metadata": {},
   "outputs": [],
   "source": [
    "random_state = 42 \n",
    "\n",
    "X_train, X_test, y_train, y_test = train_test_split(normalized_embeddings, labels_list, test_size=0.20, random_state=random_state)\n",
    "\n"
   ]
  },
  {
   "cell_type": "code",
   "execution_count": 10,
   "metadata": {},
   "outputs": [
    {
     "data": {
      "text/html": [
       "<style>#sk-container-id-1 {color: black;background-color: white;}#sk-container-id-1 pre{padding: 0;}#sk-container-id-1 div.sk-toggleable {background-color: white;}#sk-container-id-1 label.sk-toggleable__label {cursor: pointer;display: block;width: 100%;margin-bottom: 0;padding: 0.3em;box-sizing: border-box;text-align: center;}#sk-container-id-1 label.sk-toggleable__label-arrow:before {content: \"▸\";float: left;margin-right: 0.25em;color: #696969;}#sk-container-id-1 label.sk-toggleable__label-arrow:hover:before {color: black;}#sk-container-id-1 div.sk-estimator:hover label.sk-toggleable__label-arrow:before {color: black;}#sk-container-id-1 div.sk-toggleable__content {max-height: 0;max-width: 0;overflow: hidden;text-align: left;background-color: #f0f8ff;}#sk-container-id-1 div.sk-toggleable__content pre {margin: 0.2em;color: black;border-radius: 0.25em;background-color: #f0f8ff;}#sk-container-id-1 input.sk-toggleable__control:checked~div.sk-toggleable__content {max-height: 200px;max-width: 100%;overflow: auto;}#sk-container-id-1 input.sk-toggleable__control:checked~label.sk-toggleable__label-arrow:before {content: \"▾\";}#sk-container-id-1 div.sk-estimator input.sk-toggleable__control:checked~label.sk-toggleable__label {background-color: #d4ebff;}#sk-container-id-1 div.sk-label input.sk-toggleable__control:checked~label.sk-toggleable__label {background-color: #d4ebff;}#sk-container-id-1 input.sk-hidden--visually {border: 0;clip: rect(1px 1px 1px 1px);clip: rect(1px, 1px, 1px, 1px);height: 1px;margin: -1px;overflow: hidden;padding: 0;position: absolute;width: 1px;}#sk-container-id-1 div.sk-estimator {font-family: monospace;background-color: #f0f8ff;border: 1px dotted black;border-radius: 0.25em;box-sizing: border-box;margin-bottom: 0.5em;}#sk-container-id-1 div.sk-estimator:hover {background-color: #d4ebff;}#sk-container-id-1 div.sk-parallel-item::after {content: \"\";width: 100%;border-bottom: 1px solid gray;flex-grow: 1;}#sk-container-id-1 div.sk-label:hover label.sk-toggleable__label {background-color: #d4ebff;}#sk-container-id-1 div.sk-serial::before {content: \"\";position: absolute;border-left: 1px solid gray;box-sizing: border-box;top: 0;bottom: 0;left: 50%;z-index: 0;}#sk-container-id-1 div.sk-serial {display: flex;flex-direction: column;align-items: center;background-color: white;padding-right: 0.2em;padding-left: 0.2em;position: relative;}#sk-container-id-1 div.sk-item {position: relative;z-index: 1;}#sk-container-id-1 div.sk-parallel {display: flex;align-items: stretch;justify-content: center;background-color: white;position: relative;}#sk-container-id-1 div.sk-item::before, #sk-container-id-1 div.sk-parallel-item::before {content: \"\";position: absolute;border-left: 1px solid gray;box-sizing: border-box;top: 0;bottom: 0;left: 50%;z-index: -1;}#sk-container-id-1 div.sk-parallel-item {display: flex;flex-direction: column;z-index: 1;position: relative;background-color: white;}#sk-container-id-1 div.sk-parallel-item:first-child::after {align-self: flex-end;width: 50%;}#sk-container-id-1 div.sk-parallel-item:last-child::after {align-self: flex-start;width: 50%;}#sk-container-id-1 div.sk-parallel-item:only-child::after {width: 0;}#sk-container-id-1 div.sk-dashed-wrapped {border: 1px dashed gray;margin: 0 0.4em 0.5em 0.4em;box-sizing: border-box;padding-bottom: 0.4em;background-color: white;}#sk-container-id-1 div.sk-label label {font-family: monospace;font-weight: bold;display: inline-block;line-height: 1.2em;}#sk-container-id-1 div.sk-label-container {text-align: center;}#sk-container-id-1 div.sk-container {/* jupyter's `normalize.less` sets `[hidden] { display: none; }` but bootstrap.min.css set `[hidden] { display: none !important; }` so we also need the `!important` here to be able to override the default hidden behavior on the sphinx rendered scikit-learn.org. See: https://github.com/scikit-learn/scikit-learn/issues/21755 */display: inline-block !important;position: relative;}#sk-container-id-1 div.sk-text-repr-fallback {display: none;}</style><div id=\"sk-container-id-1\" class=\"sk-top-container\"><div class=\"sk-text-repr-fallback\"><pre>SVC(random_state=42)</pre><b>In a Jupyter environment, please rerun this cell to show the HTML representation or trust the notebook. <br />On GitHub, the HTML representation is unable to render, please try loading this page with nbviewer.org.</b></div><div class=\"sk-container\" hidden><div class=\"sk-item\"><div class=\"sk-estimator sk-toggleable\"><input class=\"sk-toggleable__control sk-hidden--visually\" id=\"sk-estimator-id-1\" type=\"checkbox\" checked><label for=\"sk-estimator-id-1\" class=\"sk-toggleable__label sk-toggleable__label-arrow\">SVC</label><div class=\"sk-toggleable__content\"><pre>SVC(random_state=42)</pre></div></div></div></div></div>"
      ],
      "text/plain": [
       "SVC(random_state=42)"
      ]
     },
     "execution_count": 10,
     "metadata": {},
     "output_type": "execute_result"
    }
   ],
   "source": [
    "C = 1.0  # Regularization parameter\n",
    "kernel = 'rbf'  # Kernel function (e.g., 'linear', 'rbf', 'poly', etc.)\n",
    "gamma = 'scale'  # Kernel coefficient (e.g., 'scale', 'auto', float)\n",
    "\n",
    "#Fit SVM on data\n",
    "\n",
    "\n",
    "svm = SVC(C=C, kernel=kernel, gamma=gamma, random_state=random_state)\n",
    "svm.fit(X_train, y_train)"
   ]
  },
  {
   "cell_type": "code",
   "execution_count": 11,
   "metadata": {},
   "outputs": [
    {
     "name": "stdout",
     "output_type": "stream",
     "text": [
      "Accuracy: 0.00%\n"
     ]
    }
   ],
   "source": [
    "y_pred = svm.predict(X_test)\n",
    "accuracy = accuracy_score(y_test, y_pred)\n",
    "print(\"Accuracy: {:.2f}%\".format(accuracy * 100))"
   ]
  },
  {
   "cell_type": "code",
   "execution_count": 12,
   "metadata": {},
   "outputs": [
    {
     "name": "stdout",
     "output_type": "stream",
     "text": [
      "Linear Regression - Mean squared error: 0.40\n",
      "Ridge Regression - Mean squared error: 0.42\n",
      "Lasso Regression - Mean squared error: 0.44\n"
     ]
    }
   ],
   "source": [
    "linear_reg = LinearRegression()\n",
    "ridge_reg = Ridge(alpha=1.0, random_state=random_state)\n",
    "lasso_reg = Lasso(alpha=0.1, random_state=random_state)\n",
    "models = [linear_reg, ridge_reg, lasso_reg]\n",
    "model_names = [\"Linear Regression\", \"Ridge Regression\", \"Lasso Regression\"]\n",
    "for model, model_name in zip(models, model_names):\n",
    "    model.fit(X_train, y_train)\n",
    "    y_pred = model.predict(X_test)\n",
    "    \n",
    "    mse = mean_squared_error(y_test, y_pred)\n",
    "    print(\"{} - Mean squared error: {:.2f}\".format(model_name, mse))"
   ]
  }
 ],
 "metadata": {
  "kernelspec": {
   "display_name": "speech_env",
   "language": "python",
   "name": "python3"
  },
  "language_info": {
   "codemirror_mode": {
    "name": "ipython",
    "version": 3
   },
   "file_extension": ".py",
   "mimetype": "text/x-python",
   "name": "python",
   "nbconvert_exporter": "python",
   "pygments_lexer": "ipython3",
   "version": "3.9.16"
  },
  "orig_nbformat": 4
 },
 "nbformat": 4,
 "nbformat_minor": 2
}
